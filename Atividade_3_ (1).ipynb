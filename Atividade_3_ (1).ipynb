{
  "nbformat": 4,
  "nbformat_minor": 0,
  "metadata": {
    "colab": {
      "provenance": []
    },
    "kernelspec": {
      "name": "python3",
      "display_name": "Python 3"
    },
    "language_info": {
      "name": "python"
    }
  },
  "cells": [
    {
      "cell_type": "code",
      "execution_count": 57,
      "metadata": {
        "id": "rqoL87nkTAFq"
      },
      "outputs": [],
      "source": [
        "### Carregando as bibliotecas \n",
        "\n",
        "import pandas as pd\n",
        "import numpy as np\n",
        "import matplotlib.pyplot as plt\n",
        "import seaborn as sns\n",
        "\n",
        "import statsmodels.api as sm\n",
        "\n",
        "from sklearn.model_selection import train_test_split\n",
        "from sklearn.preprocessing import StandardScaler\n",
        "from sklearn.linear_model import LogisticRegression\n",
        "from sklearn.utils import class_weight\n",
        "from sklearn.metrics import roc_curve, roc_auc_score, precision_score, accuracy_score,confusion_matrix\n"
      ]
    },
    {
      "cell_type": "code",
      "source": [
        "### Dicionário dos dados\n",
        "'''\n",
        "gender: genero\n",
        "age: idade\n",
        "hyptertension: hipertensão (Binário)\n",
        "heart_disease: doença cardiáca\n",
        "ever_married: Se o paciente já foi casado\n",
        "work_type: Tipo de trabalho de um paciente. \n",
        "Residence_type: tipo de residência \n",
        "avg_glucose_level: nível médio de glicose no sangue. \n",
        "bmi: imc\n",
        "smoking_status: Se já fumou, fuma ou nunca fumou\n",
        "stroke: se já teve AVC (Binário)\n",
        "'''\n",
        "\n",
        "## Objetivo:\n",
        "'''\n",
        "Objetivo: Prever a ocorrência de AVC (Stroke)\n",
        "'''"
      ],
      "metadata": {
        "colab": {
          "base_uri": "https://localhost:8080/",
          "height": 35
        },
        "id": "asYhB5DZT4hP",
        "outputId": "e3b157b7-ba67-48bc-f0cb-92cbae8a1fb4"
      },
      "execution_count": 58,
      "outputs": [
        {
          "output_type": "execute_result",
          "data": {
            "text/plain": [
              "'\\nObjetivo: Prever a ocorrência de AVC (Stroke)\\n'"
            ],
            "application/vnd.google.colaboratory.intrinsic+json": {
              "type": "string"
            }
          },
          "metadata": {},
          "execution_count": 58
        }
      ]
    },
    {
      "cell_type": "code",
      "source": [
        "### Abrindo o dataframe\n",
        "colunas = ['gender','age','hypertension','heart_disease','work_type','Residence_type','avg_glucose_level','bmi','smoking_status','stroke']\n",
        "\n",
        "df = pd.read_csv('/content/healthcare-dataset-stroke-data.csv', sep = ',' , usecols= colunas)\n",
        "df.head()"
      ],
      "metadata": {
        "colab": {
          "base_uri": "https://localhost:8080/",
          "height": 206
        },
        "id": "5lb-1ZhYUHNE",
        "outputId": "a2044eca-4482-48f2-be0c-40ccd4354d23"
      },
      "execution_count": 59,
      "outputs": [
        {
          "output_type": "execute_result",
          "data": {
            "text/plain": [
              "   gender   age  hypertension  heart_disease      work_type Residence_type  \\\n",
              "0    Male  67.0             0              1        Private          Urban   \n",
              "1  Female  61.0             0              0  Self-employed          Rural   \n",
              "2    Male  80.0             0              1        Private          Rural   \n",
              "3  Female  49.0             0              0        Private          Urban   \n",
              "4  Female  79.0             1              0  Self-employed          Rural   \n",
              "\n",
              "   avg_glucose_level   bmi   smoking_status  stroke  \n",
              "0             228.69  36.6  formerly smoked       1  \n",
              "1             202.21   NaN     never smoked       1  \n",
              "2             105.92  32.5     never smoked       1  \n",
              "3             171.23  34.4           smokes       1  \n",
              "4             174.12  24.0     never smoked       1  "
            ],
            "text/html": [
              "\n",
              "  <div id=\"df-45abb9df-eb82-4a61-968b-998ee29fd6de\">\n",
              "    <div class=\"colab-df-container\">\n",
              "      <div>\n",
              "<style scoped>\n",
              "    .dataframe tbody tr th:only-of-type {\n",
              "        vertical-align: middle;\n",
              "    }\n",
              "\n",
              "    .dataframe tbody tr th {\n",
              "        vertical-align: top;\n",
              "    }\n",
              "\n",
              "    .dataframe thead th {\n",
              "        text-align: right;\n",
              "    }\n",
              "</style>\n",
              "<table border=\"1\" class=\"dataframe\">\n",
              "  <thead>\n",
              "    <tr style=\"text-align: right;\">\n",
              "      <th></th>\n",
              "      <th>gender</th>\n",
              "      <th>age</th>\n",
              "      <th>hypertension</th>\n",
              "      <th>heart_disease</th>\n",
              "      <th>work_type</th>\n",
              "      <th>Residence_type</th>\n",
              "      <th>avg_glucose_level</th>\n",
              "      <th>bmi</th>\n",
              "      <th>smoking_status</th>\n",
              "      <th>stroke</th>\n",
              "    </tr>\n",
              "  </thead>\n",
              "  <tbody>\n",
              "    <tr>\n",
              "      <th>0</th>\n",
              "      <td>Male</td>\n",
              "      <td>67.0</td>\n",
              "      <td>0</td>\n",
              "      <td>1</td>\n",
              "      <td>Private</td>\n",
              "      <td>Urban</td>\n",
              "      <td>228.69</td>\n",
              "      <td>36.6</td>\n",
              "      <td>formerly smoked</td>\n",
              "      <td>1</td>\n",
              "    </tr>\n",
              "    <tr>\n",
              "      <th>1</th>\n",
              "      <td>Female</td>\n",
              "      <td>61.0</td>\n",
              "      <td>0</td>\n",
              "      <td>0</td>\n",
              "      <td>Self-employed</td>\n",
              "      <td>Rural</td>\n",
              "      <td>202.21</td>\n",
              "      <td>NaN</td>\n",
              "      <td>never smoked</td>\n",
              "      <td>1</td>\n",
              "    </tr>\n",
              "    <tr>\n",
              "      <th>2</th>\n",
              "      <td>Male</td>\n",
              "      <td>80.0</td>\n",
              "      <td>0</td>\n",
              "      <td>1</td>\n",
              "      <td>Private</td>\n",
              "      <td>Rural</td>\n",
              "      <td>105.92</td>\n",
              "      <td>32.5</td>\n",
              "      <td>never smoked</td>\n",
              "      <td>1</td>\n",
              "    </tr>\n",
              "    <tr>\n",
              "      <th>3</th>\n",
              "      <td>Female</td>\n",
              "      <td>49.0</td>\n",
              "      <td>0</td>\n",
              "      <td>0</td>\n",
              "      <td>Private</td>\n",
              "      <td>Urban</td>\n",
              "      <td>171.23</td>\n",
              "      <td>34.4</td>\n",
              "      <td>smokes</td>\n",
              "      <td>1</td>\n",
              "    </tr>\n",
              "    <tr>\n",
              "      <th>4</th>\n",
              "      <td>Female</td>\n",
              "      <td>79.0</td>\n",
              "      <td>1</td>\n",
              "      <td>0</td>\n",
              "      <td>Self-employed</td>\n",
              "      <td>Rural</td>\n",
              "      <td>174.12</td>\n",
              "      <td>24.0</td>\n",
              "      <td>never smoked</td>\n",
              "      <td>1</td>\n",
              "    </tr>\n",
              "  </tbody>\n",
              "</table>\n",
              "</div>\n",
              "      <button class=\"colab-df-convert\" onclick=\"convertToInteractive('df-45abb9df-eb82-4a61-968b-998ee29fd6de')\"\n",
              "              title=\"Convert this dataframe to an interactive table.\"\n",
              "              style=\"display:none;\">\n",
              "        \n",
              "  <svg xmlns=\"http://www.w3.org/2000/svg\" height=\"24px\"viewBox=\"0 0 24 24\"\n",
              "       width=\"24px\">\n",
              "    <path d=\"M0 0h24v24H0V0z\" fill=\"none\"/>\n",
              "    <path d=\"M18.56 5.44l.94 2.06.94-2.06 2.06-.94-2.06-.94-.94-2.06-.94 2.06-2.06.94zm-11 1L8.5 8.5l.94-2.06 2.06-.94-2.06-.94L8.5 2.5l-.94 2.06-2.06.94zm10 10l.94 2.06.94-2.06 2.06-.94-2.06-.94-.94-2.06-.94 2.06-2.06.94z\"/><path d=\"M17.41 7.96l-1.37-1.37c-.4-.4-.92-.59-1.43-.59-.52 0-1.04.2-1.43.59L10.3 9.45l-7.72 7.72c-.78.78-.78 2.05 0 2.83L4 21.41c.39.39.9.59 1.41.59.51 0 1.02-.2 1.41-.59l7.78-7.78 2.81-2.81c.8-.78.8-2.07 0-2.86zM5.41 20L4 18.59l7.72-7.72 1.47 1.35L5.41 20z\"/>\n",
              "  </svg>\n",
              "      </button>\n",
              "      \n",
              "  <style>\n",
              "    .colab-df-container {\n",
              "      display:flex;\n",
              "      flex-wrap:wrap;\n",
              "      gap: 12px;\n",
              "    }\n",
              "\n",
              "    .colab-df-convert {\n",
              "      background-color: #E8F0FE;\n",
              "      border: none;\n",
              "      border-radius: 50%;\n",
              "      cursor: pointer;\n",
              "      display: none;\n",
              "      fill: #1967D2;\n",
              "      height: 32px;\n",
              "      padding: 0 0 0 0;\n",
              "      width: 32px;\n",
              "    }\n",
              "\n",
              "    .colab-df-convert:hover {\n",
              "      background-color: #E2EBFA;\n",
              "      box-shadow: 0px 1px 2px rgba(60, 64, 67, 0.3), 0px 1px 3px 1px rgba(60, 64, 67, 0.15);\n",
              "      fill: #174EA6;\n",
              "    }\n",
              "\n",
              "    [theme=dark] .colab-df-convert {\n",
              "      background-color: #3B4455;\n",
              "      fill: #D2E3FC;\n",
              "    }\n",
              "\n",
              "    [theme=dark] .colab-df-convert:hover {\n",
              "      background-color: #434B5C;\n",
              "      box-shadow: 0px 1px 3px 1px rgba(0, 0, 0, 0.15);\n",
              "      filter: drop-shadow(0px 1px 2px rgba(0, 0, 0, 0.3));\n",
              "      fill: #FFFFFF;\n",
              "    }\n",
              "  </style>\n",
              "\n",
              "      <script>\n",
              "        const buttonEl =\n",
              "          document.querySelector('#df-45abb9df-eb82-4a61-968b-998ee29fd6de button.colab-df-convert');\n",
              "        buttonEl.style.display =\n",
              "          google.colab.kernel.accessAllowed ? 'block' : 'none';\n",
              "\n",
              "        async function convertToInteractive(key) {\n",
              "          const element = document.querySelector('#df-45abb9df-eb82-4a61-968b-998ee29fd6de');\n",
              "          const dataTable =\n",
              "            await google.colab.kernel.invokeFunction('convertToInteractive',\n",
              "                                                     [key], {});\n",
              "          if (!dataTable) return;\n",
              "\n",
              "          const docLinkHtml = 'Like what you see? Visit the ' +\n",
              "            '<a target=\"_blank\" href=https://colab.research.google.com/notebooks/data_table.ipynb>data table notebook</a>'\n",
              "            + ' to learn more about interactive tables.';\n",
              "          element.innerHTML = '';\n",
              "          dataTable['output_type'] = 'display_data';\n",
              "          await google.colab.output.renderOutput(dataTable, element);\n",
              "          const docLink = document.createElement('div');\n",
              "          docLink.innerHTML = docLinkHtml;\n",
              "          element.appendChild(docLink);\n",
              "        }\n",
              "      </script>\n",
              "    </div>\n",
              "  </div>\n",
              "  "
            ]
          },
          "metadata": {},
          "execution_count": 59
        }
      ]
    },
    {
      "cell_type": "code",
      "source": [
        "###############################################################################################################################################################################################"
      ],
      "metadata": {
        "id": "rI7mFaUZVEbl"
      },
      "execution_count": 60,
      "outputs": []
    },
    {
      "cell_type": "code",
      "source": [
        "### Análise exploratória dos dados e pré processamento. \n",
        "\n",
        "## Verificar se as variáveis são correlacionadas entre si. \n",
        "matriz_correlacao = df.corr()\n",
        "matriz_correlacao\n",
        "# Observamos que as variáveis não são correlacionadas, assim evitanto o problema de multicolinearidade\n"
      ],
      "metadata": {
        "colab": {
          "base_uri": "https://localhost:8080/",
          "height": 292
        },
        "id": "YO67oeIqUcNN",
        "outputId": "731bff08-b4b6-4b55-8142-390dd8822540"
      },
      "execution_count": 61,
      "outputs": [
        {
          "output_type": "stream",
          "name": "stderr",
          "text": [
            "<ipython-input-61-f6d630920272>:4: FutureWarning: The default value of numeric_only in DataFrame.corr is deprecated. In a future version, it will default to False. Select only valid columns or specify the value of numeric_only to silence this warning.\n",
            "  matriz_correlacao = df.corr()\n"
          ]
        },
        {
          "output_type": "execute_result",
          "data": {
            "text/plain": [
              "                        age  hypertension  heart_disease  avg_glucose_level  \\\n",
              "age                1.000000      0.276398       0.263796           0.238171   \n",
              "hypertension       0.276398      1.000000       0.108306           0.174474   \n",
              "heart_disease      0.263796      0.108306       1.000000           0.161857   \n",
              "avg_glucose_level  0.238171      0.174474       0.161857           1.000000   \n",
              "bmi                0.333398      0.167811       0.041357           0.175502   \n",
              "stroke             0.245257      0.127904       0.134914           0.131945   \n",
              "\n",
              "                        bmi    stroke  \n",
              "age                0.333398  0.245257  \n",
              "hypertension       0.167811  0.127904  \n",
              "heart_disease      0.041357  0.134914  \n",
              "avg_glucose_level  0.175502  0.131945  \n",
              "bmi                1.000000  0.042374  \n",
              "stroke             0.042374  1.000000  "
            ],
            "text/html": [
              "\n",
              "  <div id=\"df-76c83799-bd0d-47f1-a261-1bdbe2e14f3f\">\n",
              "    <div class=\"colab-df-container\">\n",
              "      <div>\n",
              "<style scoped>\n",
              "    .dataframe tbody tr th:only-of-type {\n",
              "        vertical-align: middle;\n",
              "    }\n",
              "\n",
              "    .dataframe tbody tr th {\n",
              "        vertical-align: top;\n",
              "    }\n",
              "\n",
              "    .dataframe thead th {\n",
              "        text-align: right;\n",
              "    }\n",
              "</style>\n",
              "<table border=\"1\" class=\"dataframe\">\n",
              "  <thead>\n",
              "    <tr style=\"text-align: right;\">\n",
              "      <th></th>\n",
              "      <th>age</th>\n",
              "      <th>hypertension</th>\n",
              "      <th>heart_disease</th>\n",
              "      <th>avg_glucose_level</th>\n",
              "      <th>bmi</th>\n",
              "      <th>stroke</th>\n",
              "    </tr>\n",
              "  </thead>\n",
              "  <tbody>\n",
              "    <tr>\n",
              "      <th>age</th>\n",
              "      <td>1.000000</td>\n",
              "      <td>0.276398</td>\n",
              "      <td>0.263796</td>\n",
              "      <td>0.238171</td>\n",
              "      <td>0.333398</td>\n",
              "      <td>0.245257</td>\n",
              "    </tr>\n",
              "    <tr>\n",
              "      <th>hypertension</th>\n",
              "      <td>0.276398</td>\n",
              "      <td>1.000000</td>\n",
              "      <td>0.108306</td>\n",
              "      <td>0.174474</td>\n",
              "      <td>0.167811</td>\n",
              "      <td>0.127904</td>\n",
              "    </tr>\n",
              "    <tr>\n",
              "      <th>heart_disease</th>\n",
              "      <td>0.263796</td>\n",
              "      <td>0.108306</td>\n",
              "      <td>1.000000</td>\n",
              "      <td>0.161857</td>\n",
              "      <td>0.041357</td>\n",
              "      <td>0.134914</td>\n",
              "    </tr>\n",
              "    <tr>\n",
              "      <th>avg_glucose_level</th>\n",
              "      <td>0.238171</td>\n",
              "      <td>0.174474</td>\n",
              "      <td>0.161857</td>\n",
              "      <td>1.000000</td>\n",
              "      <td>0.175502</td>\n",
              "      <td>0.131945</td>\n",
              "    </tr>\n",
              "    <tr>\n",
              "      <th>bmi</th>\n",
              "      <td>0.333398</td>\n",
              "      <td>0.167811</td>\n",
              "      <td>0.041357</td>\n",
              "      <td>0.175502</td>\n",
              "      <td>1.000000</td>\n",
              "      <td>0.042374</td>\n",
              "    </tr>\n",
              "    <tr>\n",
              "      <th>stroke</th>\n",
              "      <td>0.245257</td>\n",
              "      <td>0.127904</td>\n",
              "      <td>0.134914</td>\n",
              "      <td>0.131945</td>\n",
              "      <td>0.042374</td>\n",
              "      <td>1.000000</td>\n",
              "    </tr>\n",
              "  </tbody>\n",
              "</table>\n",
              "</div>\n",
              "      <button class=\"colab-df-convert\" onclick=\"convertToInteractive('df-76c83799-bd0d-47f1-a261-1bdbe2e14f3f')\"\n",
              "              title=\"Convert this dataframe to an interactive table.\"\n",
              "              style=\"display:none;\">\n",
              "        \n",
              "  <svg xmlns=\"http://www.w3.org/2000/svg\" height=\"24px\"viewBox=\"0 0 24 24\"\n",
              "       width=\"24px\">\n",
              "    <path d=\"M0 0h24v24H0V0z\" fill=\"none\"/>\n",
              "    <path d=\"M18.56 5.44l.94 2.06.94-2.06 2.06-.94-2.06-.94-.94-2.06-.94 2.06-2.06.94zm-11 1L8.5 8.5l.94-2.06 2.06-.94-2.06-.94L8.5 2.5l-.94 2.06-2.06.94zm10 10l.94 2.06.94-2.06 2.06-.94-2.06-.94-.94-2.06-.94 2.06-2.06.94z\"/><path d=\"M17.41 7.96l-1.37-1.37c-.4-.4-.92-.59-1.43-.59-.52 0-1.04.2-1.43.59L10.3 9.45l-7.72 7.72c-.78.78-.78 2.05 0 2.83L4 21.41c.39.39.9.59 1.41.59.51 0 1.02-.2 1.41-.59l7.78-7.78 2.81-2.81c.8-.78.8-2.07 0-2.86zM5.41 20L4 18.59l7.72-7.72 1.47 1.35L5.41 20z\"/>\n",
              "  </svg>\n",
              "      </button>\n",
              "      \n",
              "  <style>\n",
              "    .colab-df-container {\n",
              "      display:flex;\n",
              "      flex-wrap:wrap;\n",
              "      gap: 12px;\n",
              "    }\n",
              "\n",
              "    .colab-df-convert {\n",
              "      background-color: #E8F0FE;\n",
              "      border: none;\n",
              "      border-radius: 50%;\n",
              "      cursor: pointer;\n",
              "      display: none;\n",
              "      fill: #1967D2;\n",
              "      height: 32px;\n",
              "      padding: 0 0 0 0;\n",
              "      width: 32px;\n",
              "    }\n",
              "\n",
              "    .colab-df-convert:hover {\n",
              "      background-color: #E2EBFA;\n",
              "      box-shadow: 0px 1px 2px rgba(60, 64, 67, 0.3), 0px 1px 3px 1px rgba(60, 64, 67, 0.15);\n",
              "      fill: #174EA6;\n",
              "    }\n",
              "\n",
              "    [theme=dark] .colab-df-convert {\n",
              "      background-color: #3B4455;\n",
              "      fill: #D2E3FC;\n",
              "    }\n",
              "\n",
              "    [theme=dark] .colab-df-convert:hover {\n",
              "      background-color: #434B5C;\n",
              "      box-shadow: 0px 1px 3px 1px rgba(0, 0, 0, 0.15);\n",
              "      filter: drop-shadow(0px 1px 2px rgba(0, 0, 0, 0.3));\n",
              "      fill: #FFFFFF;\n",
              "    }\n",
              "  </style>\n",
              "\n",
              "      <script>\n",
              "        const buttonEl =\n",
              "          document.querySelector('#df-76c83799-bd0d-47f1-a261-1bdbe2e14f3f button.colab-df-convert');\n",
              "        buttonEl.style.display =\n",
              "          google.colab.kernel.accessAllowed ? 'block' : 'none';\n",
              "\n",
              "        async function convertToInteractive(key) {\n",
              "          const element = document.querySelector('#df-76c83799-bd0d-47f1-a261-1bdbe2e14f3f');\n",
              "          const dataTable =\n",
              "            await google.colab.kernel.invokeFunction('convertToInteractive',\n",
              "                                                     [key], {});\n",
              "          if (!dataTable) return;\n",
              "\n",
              "          const docLinkHtml = 'Like what you see? Visit the ' +\n",
              "            '<a target=\"_blank\" href=https://colab.research.google.com/notebooks/data_table.ipynb>data table notebook</a>'\n",
              "            + ' to learn more about interactive tables.';\n",
              "          element.innerHTML = '';\n",
              "          dataTable['output_type'] = 'display_data';\n",
              "          await google.colab.output.renderOutput(dataTable, element);\n",
              "          const docLink = document.createElement('div');\n",
              "          docLink.innerHTML = docLinkHtml;\n",
              "          element.appendChild(docLink);\n",
              "        }\n",
              "      </script>\n",
              "    </div>\n",
              "  </div>\n",
              "  "
            ]
          },
          "metadata": {},
          "execution_count": 61
        }
      ]
    },
    {
      "cell_type": "code",
      "source": [
        "## Verificando o tamanho do dataset. \n",
        "len(df)\n",
        "# 5110 linhas"
      ],
      "metadata": {
        "colab": {
          "base_uri": "https://localhost:8080/"
        },
        "id": "Smi2lut2VI3E",
        "outputId": "c377b61c-2b20-4599-b9d9-2236ae70b737"
      },
      "execution_count": 62,
      "outputs": [
        {
          "output_type": "execute_result",
          "data": {
            "text/plain": [
              "5110"
            ]
          },
          "metadata": {},
          "execution_count": 62
        }
      ]
    },
    {
      "cell_type": "code",
      "source": [
        "## Verificando se existem dados faltantes\n",
        "df.isnull().sum()\n",
        "# Existem 201 dados faltantes na coluna bmi (IMC)\n",
        "\n",
        "# Como 201 dados são poucos na comparando com o número de registro, apenas irei remove-lós sem utilizar técnicas de imputação de dados: \n",
        "df = df.dropna()\n"
      ],
      "metadata": {
        "id": "nbeUKUyiVazl"
      },
      "execution_count": 63,
      "outputs": []
    },
    {
      "cell_type": "code",
      "source": [
        "## Convertento as variáveis discretas em uma representação numérica\n",
        "\n",
        "mapeamento_genero= {'Male': 1, 'Female': 0, 'Other': 99}\n",
        "mapeamento_work = {'Private':0 , 'Self-employed':1, 'Govt_job':2, 'children':3, 'Never_worked':4}\n",
        "mapeamento_Residence = {'Urban': 1 , 'Rural': 0}\n",
        "mapeamento_smok = {'formerly smoked': 0, 'never smoked': 1, 'smokes': 2, 'Unknown': 3}\n",
        "\n",
        "df['gender'] = df['gender'].map(mapeamento_genero)\n",
        "df['work_type'] = df['work_type'].map(mapeamento_work)\n",
        "df['Residence_type'] = df['Residence_type'].map(mapeamento_Residence)\n",
        "df['smoking_status'] = df['smoking_status'].map(mapeamento_smok)"
      ],
      "metadata": {
        "id": "Y4QyPCntV5QT"
      },
      "execution_count": 64,
      "outputs": []
    },
    {
      "cell_type": "code",
      "source": [
        "## Observamos que as variáveis age, avg_glucose_level e bmi possuem escalas bem diferentes, então, vão ser normalizadas. \n",
        "\n",
        "colunas = ['age', 'avg_glucose_level', 'bmi']\n",
        "scaler = StandardScaler()\n",
        "df[colunas] = scaler.fit_transform(df[colunas])"
      ],
      "metadata": {
        "id": "sjrmjOJaWxjk"
      },
      "execution_count": 65,
      "outputs": []
    },
    {
      "cell_type": "code",
      "source": [
        "## Verificando se a variavel target está balanceada\n",
        "contagem = df['stroke'].value_counts()\n",
        "contagem \n",
        "\n",
        "# A variável target não está balanceada, será necessário utilizar alguma técnica de balanceamento para evitarmos problemas devido a esse desbalanceamento."
      ],
      "metadata": {
        "colab": {
          "base_uri": "https://localhost:8080/"
        },
        "id": "EjydEVKYXCyL",
        "outputId": "8583b93d-4752-4c76-e6da-ead7e27a7351"
      },
      "execution_count": 66,
      "outputs": [
        {
          "output_type": "execute_result",
          "data": {
            "text/plain": [
              "0    4700\n",
              "1     209\n",
              "Name: stroke, dtype: int64"
            ]
          },
          "metadata": {},
          "execution_count": 66
        }
      ]
    },
    {
      "cell_type": "code",
      "source": [
        "## Irei utilizar como teste duas técnicas de balancamento, Undersampling e a técnica do ajuste de pesos, com o objetivo de ver qual possui a melhor perfomance. \n",
        "\n",
        "# Undersampling\n",
        "\n",
        "contagem_classes = df['stroke'].value_counts()\n",
        "min_observacoes = contagem_classes.min()\n",
        "df_1 = df.groupby('stroke').apply(lambda x: x.sample(min_observacoes)).reset_index(drop=True)\n",
        "\n",
        "# A juste dos pesos\n",
        "\n",
        "weights = class_weight.compute_class_weight('balanced', classes=sorted(df['stroke'].unique()), y=df['stroke'])\n",
        "class_weights = {i: weights[i] for i in range(len(weights))}\n",
        "df_2 = pd.concat([df[df['stroke'] == classe].sample(frac=class_weights[classe], replace=True) for classe in df['stroke'].unique()])\n",
        "df_2.reset_index(drop=True, inplace=True)\n"
      ],
      "metadata": {
        "id": "NWRCbc1XXzoU"
      },
      "execution_count": 67,
      "outputs": []
    },
    {
      "cell_type": "code",
      "source": [
        "###############################################################################################################################################################################################"
      ],
      "metadata": {
        "id": "iZu6gY4FYmox"
      },
      "execution_count": 68,
      "outputs": []
    },
    {
      "cell_type": "code",
      "source": [
        "### Construção dos modelos de regressão logística"
      ],
      "metadata": {
        "id": "tqOT2_uJY3wC"
      },
      "execution_count": 69,
      "outputs": []
    },
    {
      "cell_type": "code",
      "source": [
        "## Modelo sem balanceamento:\n",
        "\n",
        "df['intercept'] = 1\n",
        "\n",
        "model = sm.Logit(df['stroke'], df[['intercept', 'gender','age','hypertension','heart_disease','work_type','Residence_type','avg_glucose_level','bmi','smoking_status']])\n",
        "result = model.fit()\n",
        "\n",
        "# Obtendo o resumo da regressão logística\n",
        "summary = result.summary()\n",
        "print(summary)\n",
        "\n",
        "# Através do summary, observamos que as variáveis gender, Residence_type, bmi e smoking_status são quase insiginificantes no modelo.\n",
        "df = df.drop(['gender', 'Residence_type', 'bmi', 'smoking_status'], axis=1)"
      ],
      "metadata": {
        "colab": {
          "base_uri": "https://localhost:8080/"
        },
        "id": "piM7cu7vZdJL",
        "outputId": "23a60325-d862-4ca0-df3c-0ace5b533cc6"
      },
      "execution_count": 71,
      "outputs": [
        {
          "output_type": "stream",
          "name": "stdout",
          "text": [
            "Optimization terminated successfully.\n",
            "         Current function value: 0.139772\n",
            "         Iterations 9\n",
            "                           Logit Regression Results                           \n",
            "==============================================================================\n",
            "Dep. Variable:                 stroke   No. Observations:                 4909\n",
            "Model:                          Logit   Df Residuals:                     4899\n",
            "Method:                           MLE   Df Model:                            9\n",
            "Date:                Sat, 13 May 2023   Pseudo R-squ.:                  0.2060\n",
            "Time:                        23:23:52   Log-Likelihood:                -686.14\n",
            "converged:                       True   LL-Null:                       -864.19\n",
            "Covariance Type:            nonrobust   LLR p-value:                 3.109e-71\n",
            "=====================================================================================\n",
            "                        coef    std err          z      P>|z|      [0.025      0.975]\n",
            "-------------------------------------------------------------------------------------\n",
            "intercept            -4.1586      0.216    -19.266      0.000      -4.582      -3.736\n",
            "gender               -0.0054      0.115     -0.047      0.963      -0.230       0.220\n",
            "age                   1.5302      0.130     11.769      0.000       1.275       1.785\n",
            "hypertension          0.5317      0.174      3.051      0.002       0.190       0.873\n",
            "heart_disease         0.4006      0.205      1.956      0.051      -0.001       0.802\n",
            "work_type            -0.1502      0.105     -1.429      0.153      -0.356       0.056\n",
            "Residence_type        0.0290      0.149      0.194      0.846      -0.263       0.321\n",
            "avg_glucose_level     0.2079      0.057      3.623      0.000       0.095       0.320\n",
            "bmi                   0.0230      0.092      0.250      0.803      -0.158       0.204\n",
            "smoking_status       -0.0278      0.074     -0.378      0.706      -0.172       0.117\n",
            "=====================================================================================\n"
          ]
        }
      ]
    },
    {
      "cell_type": "code",
      "source": [
        "## Undersampling \n",
        "df_1['intercept'] = 1\n",
        "\n",
        "model = sm.Logit(df_1['stroke'], df_1[['intercept', 'gender','age','hypertension','heart_disease','work_type','Residence_type','avg_glucose_level','bmi','smoking_status']])\n",
        "result = model.fit()\n",
        "\n",
        "# Obtendo o resumo da regressão logística\n",
        "summary = result.summary()\n",
        "print(summary)\n",
        "\n",
        "# No modelo balanceado por undersampling, temos que as variáveis gender, work_type, Residence_type, bmi, smoking_status  não se mostram significantes.   \n",
        "df_1= df_1.drop(['gender', 'Residence_type', 'bmi', 'smoking_status'], axis=1)                     "
      ],
      "metadata": {
        "colab": {
          "base_uri": "https://localhost:8080/"
        },
        "id": "-UfdFDdybaDN",
        "outputId": "76e36c2a-4298-4209-97a3-6c91eefd9519"
      },
      "execution_count": 75,
      "outputs": [
        {
          "output_type": "stream",
          "name": "stdout",
          "text": [
            "Optimization terminated successfully.\n",
            "         Current function value: 0.466612\n",
            "         Iterations 7\n",
            "                           Logit Regression Results                           \n",
            "==============================================================================\n",
            "Dep. Variable:                 stroke   No. Observations:                  418\n",
            "Model:                          Logit   Df Residuals:                      408\n",
            "Method:                           MLE   Df Model:                            9\n",
            "Date:                Sat, 13 May 2023   Pseudo R-squ.:                  0.3268\n",
            "Time:                        23:28:37   Log-Likelihood:                -195.04\n",
            "converged:                       True   LL-Null:                       -289.74\n",
            "Covariance Type:            nonrobust   LLR p-value:                 5.539e-36\n",
            "=====================================================================================\n",
            "                        coef    std err          z      P>|z|      [0.025      0.975]\n",
            "-------------------------------------------------------------------------------------\n",
            "intercept            -1.3251      0.326     -4.061      0.000      -1.965      -0.686\n",
            "gender               -0.2479      0.261     -0.951      0.341      -0.759       0.263\n",
            "age                   1.6302      0.198      8.247      0.000       1.243       2.018\n",
            "hypertension          0.4320      0.314      1.377      0.168      -0.183       1.047\n",
            "heart_disease         0.6230      0.459      1.357      0.175      -0.277       1.523\n",
            "work_type            -0.1159      0.163     -0.712      0.476      -0.435       0.203\n",
            "Residence_type        0.1280      0.251      0.509      0.611      -0.365       0.621\n",
            "avg_glucose_level     0.2709      0.116      2.339      0.019       0.044       0.498\n",
            "bmi                   0.1618      0.144      1.124      0.261      -0.120       0.444\n",
            "smoking_status        0.1315      0.127      1.038      0.299      -0.117       0.380\n",
            "=====================================================================================\n"
          ]
        }
      ]
    },
    {
      "cell_type": "code",
      "source": [
        "## Ajuste por peso\n",
        "df_2['intercept'] = 1\n",
        "\n",
        "model = sm.Logit(df_2['stroke'], df_2[['intercept', 'gender','age','hypertension','heart_disease','work_type','Residence_type','avg_glucose_level','bmi','smoking_status']])\n",
        "result = model.fit()\n",
        "\n",
        "# Obtendo o resumo da regressão logística\n",
        "summary = result.summary()\n",
        "print(summary)\n",
        "\n",
        "# No modelo balanceado por peso, temos que as variáveis smoking_status,bmi e gender não mostram significância\n",
        "df_2= df_2.drop(['gender', 'bmi', 'smoking_status'], axis=1)                     "
      ],
      "metadata": {
        "colab": {
          "base_uri": "https://localhost:8080/"
        },
        "id": "Mq5WGl5bcel1",
        "outputId": "a21506d1-57c7-469e-bf1b-f18f26493a8b"
      },
      "execution_count": 78,
      "outputs": [
        {
          "output_type": "stream",
          "name": "stdout",
          "text": [
            "Optimization terminated successfully.\n",
            "         Current function value: 0.468284\n",
            "         Iterations 7\n",
            "                           Logit Regression Results                           \n",
            "==============================================================================\n",
            "Dep. Variable:                 stroke   No. Observations:                 4908\n",
            "Model:                          Logit   Df Residuals:                     4898\n",
            "Method:                           MLE   Df Model:                            9\n",
            "Date:                Sat, 13 May 2023   Pseudo R-squ.:                  0.3244\n",
            "Time:                        23:31:28   Log-Likelihood:                -2298.3\n",
            "converged:                       True   LL-Null:                       -3402.0\n",
            "Covariance Type:            nonrobust   LLR p-value:                     0.000\n",
            "=====================================================================================\n",
            "                        coef    std err          z      P>|z|      [0.025      0.975]\n",
            "-------------------------------------------------------------------------------------\n",
            "intercept            -1.2333      0.097    -12.757      0.000      -1.423      -1.044\n",
            "gender                0.0607      0.075      0.811      0.417      -0.086       0.207\n",
            "age                   1.6613      0.058     28.534      0.000       1.547       1.775\n",
            "hypertension          0.7426      0.099      7.483      0.000       0.548       0.937\n",
            "heart_disease         0.6776      0.128      5.305      0.000       0.427       0.928\n",
            "work_type            -0.1124      0.048     -2.365      0.018      -0.206      -0.019\n",
            "Residence_type       -0.1013      0.073     -1.384      0.166      -0.245       0.042\n",
            "avg_glucose_level     0.1477      0.032      4.631      0.000       0.085       0.210\n",
            "bmi                   0.0431      0.044      0.990      0.322      -0.042       0.128\n",
            "smoking_status        0.0117      0.037      0.320      0.749      -0.060       0.083\n",
            "=====================================================================================\n"
          ]
        }
      ]
    },
    {
      "cell_type": "code",
      "source": [
        "### Avaliando a acurácia dos modelos e matriz de confusão dos modelos. \n"
      ],
      "metadata": {
        "id": "xR1P_7hgf5qP"
      },
      "execution_count": 81,
      "outputs": []
    },
    {
      "cell_type": "code",
      "source": [
        "\n",
        "\n",
        "## Modelo sem balanceamento\n",
        "X = df.drop(['stroke'], axis=1)\n",
        "y = df['stroke'] # Variável target.\n",
        "X_train, X_test, y_train, y_test = train_test_split(X, y, test_size=0.20, random_state=42)\n",
        "\n",
        "model = LogisticRegression()\n",
        "model.fit(X, y)\n",
        "\n",
        "predictions = model.predict(X)\n",
        "accuracy = accuracy_score(y, predictions)\n",
        "print(\"Acurácia:\", accuracy)\n",
        "\n",
        "matriz_confusao = confusion_matrix(y, predictions)\n",
        "matriz_confusao\n",
        "\n",
        "# Embora, este modelo sejá muito bom na sua acurrácia, ele praticamente errada todas as classificações sobre quem vai ter um AVC, sendo a sua maioria esmagadora falsos negativos. \n",
        "# Logo, esse modelo será excluído de cara. "
      ],
      "metadata": {
        "colab": {
          "base_uri": "https://localhost:8080/"
        },
        "id": "pCOnyJMZe6Vk",
        "outputId": "26ed7671-727d-4a2b-86b9-0808692a5405"
      },
      "execution_count": 90,
      "outputs": [
        {
          "output_type": "stream",
          "name": "stdout",
          "text": [
            "Acurácia: 0.9576288449786107\n"
          ]
        },
        {
          "output_type": "execute_result",
          "data": {
            "text/plain": [
              "array([[4700,    0],\n",
              "       [ 208,    1]])"
            ]
          },
          "metadata": {},
          "execution_count": 90
        }
      ]
    },
    {
      "cell_type": "code",
      "source": [
        "## Modelo por Undersampling \n",
        "\n",
        "X = df_1.drop(['stroke'], axis=1)\n",
        "y = df_1['stroke'] # Variável target.\n",
        "X_train, X_test, y_train, y_test = train_test_split(X, y, test_size=0.2, random_state=42)\n",
        "\n",
        "model = LogisticRegression()\n",
        "model.fit(X, y)\n",
        "\n",
        "predictions = model.predict(X)\n",
        "accuracy = accuracy_score(y, predictions)\n",
        "print(\"Acurácia:\", accuracy)\n",
        "\n",
        "matriz_confusao = confusion_matrix(y, predictions)\n",
        "print(matriz_confusao)\n",
        "\n",
        "# Embora, este modelo tenha menos acurácia, sua ele possui verdadeiros positivos (o anterior não) e ainda possui uma boa taxa de verdadeiros negativos. \n",
        "# Logo, esse modelo continuara na análise\n",
        "\n",
        "# Sensibilidade, taxas verdadeiros positivos\n",
        "\n",
        "\n",
        "\n",
        "# Calculando a sensibilidade:  taxas verdadeiros positivos\n",
        "# Extraindo os valores da matriz de confusão\n",
        "\n",
        "\n",
        "TP = matriz_confusao[1, 1]\n",
        "FN = matriz_confusao[1, 0]\n",
        "\n",
        "sensibilidade = TP / (TP + FN)\n",
        "print('Sensibilidade:' , sensibilidade)\n",
        "\n",
        "# Não irei utilizar especifidade, em um modelo que se deseja prever a ocorrência de um AVC, o que mais vale de fato é a taxas de verdadeiros positivos. \n",
        "\n",
        "# Curva ROC \n",
        "\n",
        "y_prob = model.predict_proba(X_test)[:, 1]\n",
        "fpr, tpr, thresholds = roc_curve(y_test, y_prob)\n",
        "auc = roc_auc_score(y_test, y_prob)\n",
        "\n",
        "# Plotar a curva ROC\n",
        "plt.plot(fpr, tpr, label='Curva ROC (AUC = {:.2f})'.format(auc))\n",
        "plt.plot([0, 1], [0, 1], 'k--')  # Linha diagonal para referência\n",
        "plt.xlabel('Taxa de Falsos Positivos (FPR)')\n",
        "plt.ylabel('Taxa de Verdadeiros Positivos (TPR)')\n",
        "plt.title('Curva ROC')\n",
        "plt.legend(loc='lower right')\n",
        "plt.show()\n",
        "\n",
        "# O modelo possui uma boa curva ROC \n",
        "# Sendo a área da sua curva 0.81, ou seja, o modelo tem uma boa discriminação"
      ],
      "metadata": {
        "colab": {
          "base_uri": "https://localhost:8080/",
          "height": 541
        },
        "id": "xLPQzUwPf2CT",
        "outputId": "d6a18693-f9c4-4083-cdf1-c02cd097a82b"
      },
      "execution_count": 104,
      "outputs": [
        {
          "output_type": "stream",
          "name": "stdout",
          "text": [
            "Acurácia: 0.7583732057416268\n",
            "[[153  56]\n",
            " [ 45 164]]\n",
            "Sensibilidade: 0.784688995215311\n"
          ]
        },
        {
          "output_type": "display_data",
          "data": {
            "text/plain": [
              "<Figure size 640x480 with 1 Axes>"
            ],
            "image/png": "[encoded data removed]"
          },
          "metadata": {}
        }
      ]
    },
    {
      "cell_type": "code",
      "source": [
        "## Modelo por ajuste dos pesos \n",
        "\n",
        "X = df_2.drop(['stroke'], axis=1)\n",
        "y = df_2['stroke'] # Variável target.\n",
        "X_train, X_test, y_train, y_test = train_test_split(X, y, test_size=0.2, random_state=42)\n",
        "\n",
        "model = LogisticRegression()\n",
        "model.fit(X, y)\n",
        "\n",
        "predictions = model.predict(X)\n",
        "accuracy = accuracy_score(y, predictions)\n",
        "print(\"Acurácia:\", accuracy)\n",
        "\n",
        "matriz_confusao = confusion_matrix(y, predictions)\n",
        "print(matriz_confusao)\n",
        "\n",
        "# Sensibilidade, taxas verdadeiros positivos\n",
        "# Extraindo os valores da matriz de confusão\n",
        "TP = matriz_confusao[1, 1]\n",
        "FN = matriz_confusao[1, 0]\n",
        "\n",
        "sensibilidade = TP / (TP + FN)\n",
        "print('Sensibilidade:' , sensibilidade)\n",
        "\n",
        "# Não irei utilizar especifidade, em um modelo que se deseja prever a ocorrência de um AVC, o que mais vale de fato é a taxas de verdadeiros positivos. \n",
        "\n",
        "# Curva ROC \n",
        "\n",
        "y_prob = model.predict_proba(X_test)[:, 1]\n",
        "fpr, tpr, thresholds = roc_curve(y_test, y_prob)\n",
        "auc = roc_auc_score(y_test, y_prob)\n",
        "\n",
        "# Plotar a curva ROC\n",
        "plt.plot(fpr, tpr, label='Curva ROC (AUC = {:.2f})'.format(auc))\n",
        "plt.plot([0, 1], [0, 1], 'k--')  # Linha diagonal para referência\n",
        "plt.xlabel('Taxa de Falsos Positivos (FPR)')\n",
        "plt.ylabel('Taxa de Verdadeiros Positivos (TPR)')\n",
        "plt.title('Curva ROC')\n",
        "plt.legend(loc='lower right')\n",
        "plt.show()\n",
        "\n",
        "# O modelo possui uma excelente curva roc, comparado ao modelo anterior, ele possui uma curva ROC mais para cima, tendo sua área sobre a curva ainda maior. \n",
        "\n",
        "# Portando o modelo a ser escolhido será o modelo em que o balanceamento foi realizado pelo ajuste dos pesos. \n",
        "# Pois possui melhor acurácia, melhor sensibilidade e melhor curva ROC\n"
      ],
      "metadata": {
        "colab": {
          "base_uri": "https://localhost:8080/",
          "height": 541
        },
        "id": "SrJo53Z8iANV",
        "outputId": "6167ef18-7f7a-43eb-ff7b-bc36a9b522ba"
      },
      "execution_count": 105,
      "outputs": [
        {
          "output_type": "stream",
          "name": "stdout",
          "text": [
            "Acurácia: 0.7687449062754687\n",
            "[[1827  627]\n",
            " [ 508 1946]]\n",
            "Sensibilidade: 0.7929910350448248\n"
          ]
        },
        {
          "output_type": "display_data",
          "data": {
            "text/plain": [
              "<Figure size 640x480 with 1 Axes>"
            ],
            "image/png": "[encoded data removed]"
          },
          "metadata": {}
        }
      ]
    },
    {
      "cell_type": "code",
      "source": [],
      "metadata": {
        "id": "ulkdLCTlrflW"
      },
      "execution_count": null,
      "outputs": []
    },
    {
      "cell_type": "code",
      "source": [],
      "metadata": {
        "id": "ZYGIe89yiVnC"
      },
      "execution_count": null,
      "outputs": []
    }
  ]
}